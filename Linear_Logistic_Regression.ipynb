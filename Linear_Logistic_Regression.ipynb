{
 "cells": [
  {
   "cell_type": "markdown",
   "metadata": {},
   "source": [
    "##Linear Regression\n",
    "\n",
    "1. What is linear regression ?\n",
    "   - Algorithm that use a linear combination of features to predict a continuous target\n",
    "   - Weights are multiplied to each of the features prior to linear combination\n",
    "   - Weights are adjusted based on the error of the linear combination with the actual target value\n",
    "\n",
    "   <br>\n",
    "\n",
    "2. What are the assumptions of a linear regression model ?\n",
    "   - **Constant variance** of feature across different target values (homoscedasticity)\n",
    "   - **Normal distribution** of residuals of the model\n",
    "   - **Independence** between data points (lack of autocorrelation)\n",
    "   - **Linearity** of linear combination of features and target\n",
    "\n",
    "   <br>\n",
    "\n",
    "3. What are the methods to test the assumptions ?\n",
    "   - **Heteroscedasticity** if residual plot presents a fanning pattern\n",
    "   - **Non-normal** if the quantiles are not aligned in the Q-Q plot with the normal quantiles\n",
    "   - **Dependence or Non-linearity** if the clear trends are observed in a sequence of points in residual plot\n",
    "\n",
    "   <br>\n",
    "   \n",
    "4. What are the steps one can take to correct for the violated assumptions ?\n",
    "   - **Heteroscedasticity** can be reduced by taking log of the features / target variables\n",
    "   - **Non-normality** of residuals can be reduced by taking log of the features / target variables\n",
    "   - **Dependence** can be taken into account by including lag terms or more complex time series model\n",
    "   - **Non-linearity** can be taken into account by including square or interaction term\n",
    "   \n",
    "   <br>\n",
    "   \n",
    "5. What is the interpretation of $\\beta$ ? What does $\\beta_0$ (the bias) mean ?\n",
    "\n",
    "   - A unit of increase of a certain feature $\\beta$ \n",
    "\n",
    "   <br>\n",
    "\n",
    "6. How does the interpretation of $\\beta$ change if log is taken on the the features / target variables ?\n",
    "\n",
    "   - [Answer](http://www.kenbenoit.net/courses/ME104/logmodels2.pdf)\n",
    "\n",
    "6. What is the interpretation of the p-value of $\\beta$ ? What is the null and alternative hypothesis ?\n",
    "\n",
    "   <br>\n",
    "\n",
    "7. How to compare relative influence of features on the target ?\n",
    "\n",
    "   <br>\n",
    "\n",
    "8. What are some causes for under-fitting ? How to avoid them ? What disadvantages do they bring ?\n",
    "\n",
    "   <br>\n",
    "   \n",
    "9. What are some causes for over-fitting ? How to avoid them ? \n",
    "\n",
    "   <br>\n",
    "\n",
    "10. How to spot an outlier ? \n",
    "\n",
    "    <br>\n",
    "   \n",
    "12. What is an levarage ? What constitue an influential point ? Why are they important ?\n",
    "\n",
    "    <br>\n",
    "\n",
    "13. How to determine how many features to include for your model ? What difference does it make if you are fitting on on a large (does not fit into memory) dataset ?  \n",
    "\n",
    "    <br>\n",
    "  \n",
    "14. What is the cost function for linear regression ? \n",
    "\n",
    "    <br>\n",
    "    \n",
    "15. Using the cost function, describe an algorithm to fit a linear regression model.\n",
    "\n",
    "    <br>\n",
    "  \n",
    "16. What are the differences between running linear regression on a large (does not fit into memory) vs a small dataset ?\n",
    "\n",
    "    <br>\n",
    "   \n",
    "17. What is the difference between stochastic gradient methods and batched gradient methods ?\n"
   ]
  },
  {
   "cell_type": "markdown",
   "metadata": {},
   "source": [
    "##Logistic Regression\n",
    "\n",
    "1. How to prevent over-fitting ?\n",
    "\n",
    "2. How to validate model\n",
    "\n",
    "3. Cost function\n",
    "\n",
    "4. Algorithm for logit\n",
    "\n",
    "5. Difference between AIC and BIC\n",
    "\n",
    "6. ROC curve\n",
    "\n",
    "7. Difference between logistic and random forest\n",
    "\n",
    "8. Decision boundary\n",
    "\n",
    "wrong sign"
   ]
  },
  {
   "cell_type": "markdown",
   "metadata": {},
   "source": [
    "## Regularization\n",
    "\n"
   ]
  },
  {
   "cell_type": "markdown",
   "metadata": {},
   "source": [
    "## Evaluation\n"
   ]
  },
  {
   "cell_type": "markdown",
   "metadata": {},
   "source": [
    "## Validation\n",
    "\n"
   ]
  }
 ],
 "metadata": {
  "kernelspec": {
   "display_name": "Python 2",
   "language": "python",
   "name": "python2"
  },
  "language_info": {
   "codemirror_mode": {
    "name": "ipython",
    "version": 2
   },
   "file_extension": ".py",
   "mimetype": "text/x-python",
   "name": "python",
   "nbconvert_exporter": "python",
   "pygments_lexer": "ipython2",
   "version": "2.7.5"
  }
 },
 "nbformat": 4,
 "nbformat_minor": 0
}
