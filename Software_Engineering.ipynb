{
 "cells": [
  {
   "cell_type": "markdown",
   "metadata": {},
   "source": [
    "##Software Engineering\n",
    "\n",
    "**If things do not make sense at some point, these videos will help:**\n",
    "\n",
    "- **Data Strucuture:** [Here](https://www.youtube.com/watch?v=92S4zgXN17o&list=PL2_aWCzGMAwI3W_JlcBbtYTwiQSsOTa6P)\n",
    "- **Sorting Algorithms:** [Here](https://www.youtube.com/watch?v=pkkFqlG0Hds&list=PL2_aWCzGMAwKedT2KfDMB9YA5DgASZb3U)\n",
    "- **Search Algorithms:** [Here](https://www.youtube.com/watch?v=j5uXyPJ0Pew&list=PL2_aWCzGMAwL3ldWlrii6YeLszojgH77j)\n",
    "\n",
    "<br>\n",
    "\n",
    "###You should know \n",
    "\n",
    "- **Data Structure:**\n",
    "  - `ArrayList`\n",
    "  - `LinkedList`\n",
    "  - `Queue`\n",
    "  - `Stack`\n",
    "  - `HashTable` (`dictionary`)\n",
    "  - `Hashset` (`set`)\n",
    "  - `BinaryTree`\n",
    "  \n",
    "  <br>\n",
    "  \n",
    "- **Algorithms:**\n",
    "  - `Time Complexity`\n",
    "  - `Speed-Memory Trade-off`\n",
    "  - `Binary Search`\n",
    "  - `Merge Sort`\n",
    "  - `Greedy Algorithms`\n",
    "  - `Recursive Algorithms`\n",
    "  - `Dynamic Algorithms` (in very rare cases)\n",
    "\n",
    "<br>\n",
    "\n",
    "###White-boarding\n",
    "\n",
    "- Best way to do these exercise is to white board it\n",
    "- First, white-board it alone in a room to get better\n",
    "- Then, get a buddy and take turns to white-board\n",
    "- **Very important:**\n",
    "  - **Give a baseline solution asap**\n",
    "  - **Say what you are thinking and pose questions to interviewer**\n",
    "  \n",
    "<br>\n",
    "\n",
    "**Questions are drawn from [interviewcake.com](https://www.interviewcake.com):**"
   ]
  },
  {
   "cell_type": "markdown",
   "metadata": {},
   "source": [
    "##Qu 1.\n",
    "\n",
    "**Given a `list_of_ints`, find the `highest_product` you can get from three of the integers.**\n",
    "\n",
    "The input `list_of_ints` will always have at least three integers."
   ]
  },
  {
   "cell_type": "code",
   "execution_count": 1,
   "metadata": {
    "collapsed": true
   },
   "outputs": [],
   "source": [
    "def highest_product(lst):\n",
    "    res = []\n",
    "    cur_prod = None\n",
    "    for item in lst:\n",
    "        if len(res) < 3:\n",
    "            res.append(item)\n",
    "            if len(res) == 3: \n",
    "                cur_prod = res[0] * res[1] * res[2]\n",
    "        else:\n",
    "            option1 = res[0] * item * res[2]\n",
    "            option2 = res[1] * item * res[2]\n",
    "            option3 = res[1] * item * res[0]\n",
    "            max_option = max([option1, option2, option3])\n",
    "            if max_option > cur_prod:\n",
    "                if option1 == max_option:\n",
    "                    res[1] = item\n",
    "                elif option2 == max_option:\n",
    "                    res[0] = item\n",
    "                else:\n",
    "                    res[2] = item\n",
    "                cur_prod = max_option\n",
    "                \n",
    "    return cur_prod"
   ]
  },
  {
   "cell_type": "code",
   "execution_count": 2,
   "metadata": {
    "collapsed": false
   },
   "outputs": [
    {
     "data": {
      "text/plain": [
       "400"
      ]
     },
     "execution_count": 2,
     "metadata": {},
     "output_type": "execute_result"
    }
   ],
   "source": [
    "highest_product([-10, -10, -5, 1, 4, 3, 2])"
   ]
  },
  {
   "cell_type": "markdown",
   "metadata": {},
   "source": [
    "<br>\n",
    "\n",
    "##Qu 2.\n",
    "\n",
    "**Your company built an in-house calendar tool called HiCal. You want to add a feature to see the times in a day when _everyone_ is available.**\n",
    "\n",
    "To do this, you’ll need to know when any team is having a meeting. In HiCal, a meeting is stored as tuples of integers `(start_time, end_time)`. These integers represent the number of 30-minute blocks past 9:00am.\n",
    "\n",
    "For example:\n",
    "\n",
    "``\n",
    "(2, 3) # meeting from 10:00 – 10:30 am\n",
    "(6, 9) # meeting from 12:00 – 1:30 pm\n",
    "``\n",
    "\n",
    "Write a function condense_meeting_times() that takes a list of meeting time ranges and returns a list of condensed ranges.\n",
    "\n",
    "For example, given:\n",
    "\n",
    "``  \n",
    "[(0, 1), (3, 5), (4, 8), (10, 12), (9, 10)]\n",
    "``\n",
    "\n",
    "your function would return:\n",
    "\n",
    "``\n",
    "[(0, 1), (3, 8), (9, 12)]\n",
    "``\n",
    "\n",
    "<br>\n",
    "\n",
    "**_Do not assume the meetings are in order._** The meeting times are coming from multiple teams.\n",
    "\n",
    "In this case the possibilities for start_time and end_time are bounded by the number of 30-minute slots in a day. But soon you plan to refactor HiCal to store times as Unix timestamps (which are big numbers). \n",
    "\n",
    "**Write something that's efficient even when we can't put a nice upper bound on the numbers representing our time ranges.**"
   ]
  },
  {
   "cell_type": "code",
   "execution_count": 3,
   "metadata": {
    "collapsed": true
   },
   "outputs": [],
   "source": [
    "def condense(tup1, tup2):\n",
    "    s1, e1 = tup1\n",
    "    s2, e2 = tup2\n",
    "    if s1 >= s2 and s1 <= e2:\n",
    "        return s2, max(e1, e2)\n",
    "    elif s2 >= s1 and s2 <= e1:\n",
    "        return s1, max(e1, e2)\n",
    "    else:\n",
    "        return tup2\n",
    "    \n",
    "def condense_meeting_time(lst):\n",
    "    sorted_lst = sorted(lst)\n",
    "    res = [sorted_lst[0]]\n",
    "    prev_tup = sorted_lst[0]\n",
    "    for i in range(1, len(sorted_lst)):\n",
    "        cur_tup = sorted_lst[i]\n",
    "        compressed = condense(prev_tup, cur_tup)\n",
    "        if compressed == cur_tup:\n",
    "            res.append(cur_tup)\n",
    "        else:\n",
    "            res[-1] = compressed\n",
    "        prev_tup = compressed\n",
    "    return res"
   ]
  },
  {
   "cell_type": "code",
   "execution_count": 4,
   "metadata": {
    "collapsed": false
   },
   "outputs": [
    {
     "data": {
      "text/plain": [
       "(1, 4)"
      ]
     },
     "execution_count": 4,
     "metadata": {},
     "output_type": "execute_result"
    }
   ],
   "source": [
    "condense((2, 4),(1, 3))"
   ]
  },
  {
   "cell_type": "code",
   "execution_count": 5,
   "metadata": {
    "collapsed": false
   },
   "outputs": [
    {
     "data": {
      "text/plain": [
       "[(1, 10), (11, 13)]"
      ]
     },
     "execution_count": 5,
     "metadata": {},
     "output_type": "execute_result"
    }
   ],
   "source": [
    "condense_meeting_time([(1, 10), (2, 6), (3, 5), (11, 13)])"
   ]
  },
  {
   "cell_type": "markdown",
   "metadata": {},
   "source": [
    "<br>\n",
    "\n",
    "##Qu 3.\n",
    "\n",
    "**A crack team of love scientists from OkEros (a hot new dating site) have devised a way to represent dating profiles as rectangles on a two-dimensional plane.**\n",
    "\n",
    "**They need help writing an algorithm to find the intersection of two users' love rectangles.** They suspect finding that intersection is the key to a matching algorithm so _powerful_ it will cause an immediate acquisition by Google or Facebook or Obama or something.\n",
    "\n",
    "**Write a function to find the rectangular intersection of two given love rectangles.**\n",
    "\n",
    "As with the example above, love rectangles are always \"straight\" and never \"diagonal.\" More rigorously: each side is parallel with either the x-axis or the y-axis.\n",
    "\n",
    "They are defined as dictionaries like this:\n",
    "\n",
    "```  \n",
    "my_rectangle = {\n",
    "\n",
    "    # coordinates of bottom-left corner:\n",
    "    'x': 1,\n",
    "    'y': 5,\n",
    "\n",
    "    # width and height\n",
    "    'width': 10,\n",
    "    'height': 4,\n",
    "\n",
    "}\n",
    "```\n",
    "\n",
    "Your output rectangle should use this format as well."
   ]
  },
  {
   "cell_type": "code",
   "execution_count": 6,
   "metadata": {
    "collapsed": true
   },
   "outputs": [],
   "source": [
    "def love_intersection(rect1, rect2):\n",
    "    \n",
    "    # y axis\n",
    "    rect1_bottom = rect1['y']\n",
    "    rect1_top = rect1['y'] + rect1['height']\n",
    "\n",
    "    rect2_bottom = rect2['y']\n",
    "    rect2_top = rect2['y'] + rect2['height']\n",
    "    \n",
    "    intersect_bottom = max(rect1_bottom, rect2_bottom)\n",
    "    intersect_top = min(rect1_top, rect2_top)\n",
    "    \n",
    "    # x-axis\n",
    "    rect1_left = rect1['x']\n",
    "    rect1_right = rect1['x'] + rect1['width']\n",
    "\n",
    "    rect2_left = rect2['x']\n",
    "    rect2_right = rect2['x'] + rect2['width']\n",
    "    \n",
    "    intersect_left = max(rect1_left, rect2_left)\n",
    "    intersect_right = min(rect1_right, rect2_right)\n",
    "    \n",
    "    if rect2_top <= rect1_bottom or rect2_bottom >= rect1_top:\n",
    "        if rect2_right <= rect1_left or rect2_left >= rect1_right:\n",
    "            return -1\n",
    "    \n",
    "    return dict(x=intersect_left, y=intersect_bottom,\n",
    "                width=intersect_right-intersect_left, height=intersect_top-intersect_bottom)"
   ]
  },
  {
   "cell_type": "code",
   "execution_count": 7,
   "metadata": {
    "collapsed": false
   },
   "outputs": [
    {
     "data": {
      "text/plain": [
       "{'height': 2, 'width': 1, 'x': 5, 'y': 3}"
      ]
     },
     "execution_count": 7,
     "metadata": {},
     "output_type": "execute_result"
    }
   ],
   "source": [
    "rect1 = dict(x=1, y=1, height=4, width=5)\n",
    "rect2 = dict(x=5, y=3, height=4, width=5)\n",
    "love_intersection(rect1, rect2)"
   ]
  },
  {
   "cell_type": "markdown",
   "metadata": {},
   "source": [
    "<br>\n",
    "\n",
    "##Qu 4.\n",
    "\n",
    "**You decide to test if your oddly-mathematical heating company is fulfilling its All-Time Max, Min, Mean and Mode Temperature Guarantee.**\n",
    "\n",
    "<br>\n",
    "\n",
    "Write a class TempTracker with these methods:\n",
    "\n",
    "- `insert()` — records a new temperature\n",
    "- `get_max()` — returns the highest temp we've seen so far\n",
    "- `get_min()` — returns the lowest temp we've seen so far\n",
    "- `get_mean()` — returns the mean of all temps we've seen so far\n",
    "- `get_mode()` — returns the mode of all temps we've seen so far\n",
    "\n",
    "<br>\n",
    "\n",
    "Optimize for space and time. **Favor speeding up the getter functions (`get_max()`, `get_min()`, `get_mean()`, and `get_mode()`) over speeding up the `insert()` function.**\n",
    "\n",
    "<br>\n",
    "\n",
    "`get_mean()` should return a **float**, but the rest of the getter functions can return integers. Temperatures will all be inserted as **integers**. We'll record our temperatures in Fahrenheit, so we can assume they'll all be in the range 0..110.\n",
    "\n",
    "If there is more than one mode, return any of the modes."
   ]
  },
  {
   "cell_type": "code",
   "execution_count": 8,
   "metadata": {
    "collapsed": true
   },
   "outputs": [],
   "source": [
    "from collections import defaultdict\n",
    "from __future__ import division\n",
    "\n",
    "class TempTracker(object):\n",
    "    def __init__(self):\n",
    "        self.max_temp = None\n",
    "        self.min_temp = None\n",
    "        self.mode_temp = None\n",
    "        self.mode_table = defaultdict(int)\n",
    "        self.mean_temp = None\n",
    "        self.n = 1\n",
    "    \n",
    "    def insert(self, f):\n",
    "        if f < 0 or f > 110:\n",
    "            raise Exception('Temp must be within 0 to 110 range')\n",
    "            \n",
    "        if self.min_temp is None:\n",
    "            self.min_temp = f\n",
    "            self.max_temp = f\n",
    "            self.mean_temp = f\n",
    "            self.mode_temp = f\n",
    "        else:\n",
    "            if f > self.max_temp:\n",
    "                self.max_temp = f\n",
    "            if f < self.min_temp:\n",
    "                self.min_temp = f\n",
    "            self.mean_temp = (self.n * self.mean_temp + f) / (self.n + 1)\n",
    "            self.n += 1\n",
    "        \n",
    "        self.mode_table[f] += 1\n",
    "        if self.mode_table[f] > self.mode_table[self.mode_temp]:\n",
    "            self.mode_temp = f\n",
    "            \n",
    "    def get_max(self):\n",
    "        return self.max_temp\n",
    "    \n",
    "    def get_min(self):\n",
    "        return self.min_temp\n",
    "    \n",
    "    def get_mode(self):\n",
    "        return self.mode_temp\n",
    "    \n",
    "    def get_mean(self):\n",
    "        return self.mean_temp"
   ]
  },
  {
   "cell_type": "code",
   "execution_count": 9,
   "metadata": {
    "collapsed": false
   },
   "outputs": [
    {
     "name": "stdout",
     "output_type": "stream",
     "text": [
      "5\n",
      "1\n",
      "2.66666666667\n",
      "3\n"
     ]
    }
   ],
   "source": [
    "tracker = TempTracker()\n",
    "tracker.insert(1)\n",
    "tracker.insert(3)\n",
    "tracker.insert(1)\n",
    "tracker.insert(5)\n",
    "tracker.insert(3)\n",
    "tracker.insert(3)\n",
    "\n",
    "\n",
    "print tracker.get_max()\n",
    "print tracker.get_min()\n",
    "print tracker.get_mean()\n",
    "print tracker.get_mode()"
   ]
  },
  {
   "cell_type": "markdown",
   "metadata": {},
   "source": [
    "<br>\n",
    "\n",
    "##Qu 5.\n",
    "\n",
    "**Write a function to see if a binary tree is \"_superbalanced_\" (a new tree property we just made up).**\n",
    "\n",
    "A tree is \"superbalanced\" if the difference between the depths of any two leaf nodes is no greater than one.\n",
    "\n",
    "Here's a sample binary tree node class:\n",
    "\n",
    "```  \n",
    "class BinaryTreeNode:\n",
    "\n",
    "    def __init__(self, value):\n",
    "        self.value = value\n",
    "        self.left  = None\n",
    "        self.right = None\n",
    "\n",
    "    def insert_left(self, value):\n",
    "        self.left = BinaryTreeNode(value)\n",
    "        return self.left\n",
    "\n",
    "    def insert_right(self, value):\n",
    "        self.right = BinaryTreeNode(value)\n",
    "        return self.right\n",
    "```  "
   ]
  },
  {
   "cell_type": "code",
   "execution_count": 10,
   "metadata": {
    "collapsed": true
   },
   "outputs": [],
   "source": [
    "class Node(object):\n",
    "    def __init__(self, n, left=None, right=None):\n",
    "        self.n = n\n",
    "        self.left = left\n",
    "        self.right = right\n",
    "        \n",
    "    def __gt__(self, node2):\n",
    "        return self.n > node2.n\n",
    "\n",
    "    def __lt__(self, node2):\n",
    "        return self.n < node2.n"
   ]
  },
  {
   "cell_type": "code",
   "execution_count": 11,
   "metadata": {
    "collapsed": true
   },
   "outputs": [],
   "source": [
    "def is_super_balanced(root):\n",
    "    stack = [root]\n",
    "    prev_depth = 0\n",
    "    cur_depth = 0\n",
    "\n",
    "    while stack:\n",
    "        item = stack.pop()\n",
    "        left_item = item.left\n",
    "        right_item = item.right\n",
    "        if left_item or right_item:\n",
    "            cur_depth += 1\n",
    "        else:\n",
    "            if abs(cur_depth - prev_depth) > 1:\n",
    "                return 0\n",
    "            else:\n",
    "                prev_depth = cur_depth\n",
    "                cur_depth = 0\n",
    "            continue\n",
    "        if left_item:\n",
    "            stack.append(left_item)\n",
    "        if right_item:\n",
    "            stack.append(right_item)\n",
    "    return 1"
   ]
  },
  {
   "cell_type": "code",
   "execution_count": 12,
   "metadata": {
    "collapsed": true
   },
   "outputs": [],
   "source": [
    "node1 = Node(1)\n",
    "node2 = Node(2)\n",
    "node3 = Node(3)\n",
    "node4 = Node(4)\n",
    "node5 = Node(5)\n",
    "node6 = Node(6)\n",
    "node1.left = node3\n",
    "node1.right = node2\n",
    "node2.right = node5\n",
    "node2.left = node4\n",
    "node4.left = node6"
   ]
  },
  {
   "cell_type": "code",
   "execution_count": 13,
   "metadata": {
    "collapsed": false
   },
   "outputs": [
    {
     "data": {
      "text/plain": [
       "0"
      ]
     },
     "execution_count": 13,
     "metadata": {},
     "output_type": "execute_result"
    }
   ],
   "source": [
    "is_super_balanced(node1)"
   ]
  },
  {
   "cell_type": "markdown",
   "metadata": {},
   "source": [
    "<br>\n",
    "\n",
    "##Qu 6.\n",
    "\n",
    "**I'm making a search engine called MillionGazillion.**\n",
    "\n",
    "I wrote a crawler that visits web pages, stores a few keywords in a database, and follows links to other web pages. I noticed that my crawler was wasting a lot of time visiting the same pages over and over, so I made a dictionary `visited` where I'm storing URLs I've already visited. Now the crawler only visits a URL if it hasn't already been visited.\n",
    "\n",
    "Thing is, the crawler is running on my old desktop computer in my parents' basement (where I totally don't live anymore), and it keeps running out of memory because `visited` is getting so huge.\n",
    "\n",
    "How can I trim down the amount of space taken up by `visited`?\n",
    "\n",
    "The strategy I came up with doesn't take a hit on runtime."
   ]
  },
  {
   "cell_type": "markdown",
   "metadata": {},
   "source": [
    "**We can use a trie. If you've never heard of a trie, think of it this way:**\n",
    "\n",
    "Let's make visited a nested dictionary where each map has keys of just one character. So we would store `'google.com'` as `visited['g']['o']['o']['g']['l']['e']['.']['c']['o']['m']['*'] = True`.\n",
    "\n",
    "The '*' at the end means 'this is the end of an entry'. Otherwise we wouldn't know what parts of visited are real URLs and which parts are just prefixes. In the example above, 'google.co' is a prefix that we might think is a visited URL if we didn't have some way to mark 'this is the end of an entry.'\n",
    "\n",
    "Now when we go to add `'google.com/maps'` to visited, we only have to add the characters '/maps', because the 'google.com' prefix is already there. Same with `'google.com/about/jobs'`.\n",
    "\n",
    "We can visualize this as a tree, where each node is a character. We can even implement it with node objects and edge pointers instead of nested dictionaries."
   ]
  },
  {
   "cell_type": "markdown",
   "metadata": {},
   "source": [
    "<br>\n",
    "\n",
    "##Qu 7.\n",
    "\n",
    "**Suppose we had a list of `n` integers in _sorted order_. How quickly could we check if a given integer is in the list?**"
   ]
  },
  {
   "cell_type": "code",
   "execution_count": 14,
   "metadata": {
    "collapsed": true
   },
   "outputs": [],
   "source": [
    "#Binary search\n",
    "\n",
    "def binary_search(lst, x, lo=0, hi=None):\n",
    "    if hi is None:\n",
    "        hi = len(lst)\n",
    "        \n",
    "    while lo < hi:\n",
    "        mid = (lo + hi) // 2\n",
    "        midval = lst[mid]\n",
    "        \n",
    "        if midval < x:\n",
    "            lo = mid + 1\n",
    "            \n",
    "        elif midval > x: \n",
    "            hi = mid\n",
    "            \n",
    "        else:\n",
    "            return mid\n",
    "    return -1"
   ]
  },
  {
   "cell_type": "code",
   "execution_count": 15,
   "metadata": {
    "collapsed": false
   },
   "outputs": [
    {
     "data": {
      "text/plain": [
       "1"
      ]
     },
     "execution_count": 15,
     "metadata": {},
     "output_type": "execute_result"
    }
   ],
   "source": [
    "binary_search([1,2,4,5,34,52,67], 2)"
   ]
  },
  {
   "cell_type": "markdown",
   "metadata": {},
   "source": [
    "<br>\n",
    "\n",
    "##Qu 8.\n",
    "\n",
    "**I want to learn some big words so people think I'm smart.**\n",
    "\n",
    "I opened up a dictionary to a page in the middle and started flipping through, looking for words I didn't know. I put each word I didn't know at increasing indices in a huge list I created in memory. When I reached the end of the dictionary, I started from the beginning and did the same thing until I reached the page I started at.\n",
    "\n",
    "Now I have a list of words that are mostly alphabetical, except they start somewhere in the middle of the alphabet, reach the end, and then start from the beginning of the alphabet. In other words, this is an alphabetically ordered list that has been \"rotated.\"\n",
    "\n",
    "For example:\n",
    "\n",
    "```\n",
    "words = [\n",
    "    'ptolemaic',\n",
    "    'retrograde',\n",
    "    'supplant',\n",
    "    'undulate',\n",
    "    'xenoepist',\n",
    "    'asymptote', # <-- rotates here!\n",
    "    'babka',\n",
    "    'banoffee',\n",
    "    'engender',\n",
    "    'karpatka',\n",
    "    'othellolagkage',\n",
    "]\n",
    "```\n",
    "\n",
    "<br>\n",
    "\n",
    "**Write a function for finding the index of the \"rotation point\"**, which is where I started working from the beginning of the dictionary. This list is huge (there are lots of words I don't know) so we want to be efficient here."
   ]
  },
  {
   "cell_type": "code",
   "execution_count": 16,
   "metadata": {
    "collapsed": true
   },
   "outputs": [],
   "source": [
    "from string import lowercase\n",
    "\n",
    "def split_dictionary(words):\n",
    "    split_pt_char = words[0][0]\n",
    "    part_1_d, part_2_d = lowercase.split(split_pt_char)\n",
    "    part_2_d = split_pt_char + part_2_d\n",
    "    return part_1_d, part_2_d\n",
    "    \n",
    "def find_rotating_point(words): \n",
    "    part_1_d, part_2_d = split_dictionary(words)\n",
    "    res_ind = 0\n",
    "    \n",
    "    for i in range(10):\n",
    "        mid_pt = int(len(words) / 2)\n",
    "        preceeding_mid_pt_char = words[mid_pt - 1][0]\n",
    "        mid_pt_char = words[mid_pt][0]\n",
    "        \n",
    "        if mid_pt_char == 'a' and preceeding_mid_pt_char != 'a':\n",
    "            return res_ind + mid_pt\n",
    "        if mid_pt_char in part_2_d and preceeding_mid_pt_char in part_2_d:\n",
    "            words = words[mid_pt:]\n",
    "            res_ind += mid_pt\n",
    "        if mid_pt_char in part_1_d and preceeding_mid_pt_char in part_1_d:\n",
    "            words = words[:mid_pt] "
   ]
  },
  {
   "cell_type": "code",
   "execution_count": 17,
   "metadata": {
    "collapsed": false
   },
   "outputs": [
    {
     "data": {
      "text/plain": [
       "6"
      ]
     },
     "execution_count": 17,
     "metadata": {},
     "output_type": "execute_result"
    }
   ],
   "source": [
    "words = [\n",
    "    'ptolemaic',\n",
    "    'retrograde',\n",
    "    'supplant',\n",
    "    'supplant',\n",
    "    'supplant',\n",
    "    'supplant',\n",
    "    'asymptote', # <-- rotates here!\n",
    "    'babka',\n",
    "    'banoffee',\n",
    "    'engender',\n",
    "    'karpatka',\n",
    "    'othellolagkage',\n",
    "]\n",
    "find_rotating_point(words)"
   ]
  },
  {
   "cell_type": "markdown",
   "metadata": {},
   "source": [
    "<br>\n",
    "\n",
    "##Qu 9.\n",
    "\n",
    "**You've built an in-flight entertainment system with on-demand movie streaming.**\n",
    "\n",
    "Users on longer flights like to start a second movie right when their first one ends, but they complain that the plane usually lands before they can see the ending. **So you're building a feature for choosing two movies whose total runtimes will equal the exact flight length.**\n",
    "\n",
    "<br>\n",
    "\n",
    "Write a function that takes an integer `flight_length` (in minutes) and a list of integers `movie_lengths` (in minutes) and returns a boolean indicating whether there are two numbers in `movie_lengths` whose sum equals `flight_length`.\n",
    "\n",
    "<br>\n",
    "\n",
    "When building your function:\n",
    "\n",
    "- Assume your users will watch exactly two movies\n",
    "- Don't make your users watch the same movie twice\n",
    "- Optimize for runtime over memory"
   ]
  },
  {
   "cell_type": "code",
   "execution_count": 18,
   "metadata": {
    "collapsed": true
   },
   "outputs": [],
   "source": [
    "def binary_add(movie_lst, mid_point, cur_movie, flight_length):\n",
    "    while True:\n",
    "        cur_mid_sum = movie_lst[mid_point] + cur_movie\n",
    "        if  cur_mid_sum > flight_length:\n",
    "            return True\n",
    "        if cur_mid_sum > flight_length:\n",
    "            movie_lst = movie_lst[:mid_point]\n",
    "        if cur_mid_sum < flight_length:\n",
    "            movie_lst = movie_lst[mid_point:]\n",
    "        return False\n",
    "        \n",
    "def optimize_2_movies(flight_length, movie_lengths):\n",
    "    movie_lst = sorted(movie_lengths, reverse=True)\n",
    "    mid_pt = int(len(cur_movies) / 2)\n",
    "    mid_movie = movie_lst[mid_pt]\n",
    "\n",
    "    for i, cur_movie in enumerate(movie_lst):\n",
    "        boo = binary_add(movie_lst, mid_pt, \n",
    "                         cur_movie, flight_length)\n",
    "        if boo:\n",
    "            return True\n",
    "    return boo"
   ]
  },
  {
   "cell_type": "code",
   "execution_count": 19,
   "metadata": {
    "collapsed": true
   },
   "outputs": [],
   "source": [
    "def optimize_2_movies_hash(flight_length, movie_lengths):\n",
    "    movie_diff = {}\n",
    "    for cur_movie in movie_lengths:\n",
    "        diff = flight_length - cur_movie\n",
    "        if diff == cur_movie:\n",
    "            movie_diff[diff] = -1\n",
    "        else:\n",
    "            movie_diff[diff] = 0\n",
    "    \n",
    "    for cur_movie in movie_lengths:\n",
    "        if cur_movie in movie_diff and movie_diff[cur_movie] + 1 == 1:\n",
    "                return True\n",
    "        \n",
    "    return False"
   ]
  },
  {
   "cell_type": "markdown",
   "metadata": {},
   "source": [
    "<br>\n",
    "\n",
    "##Qu 10.\n",
    "\n",
    "**Write a function `fib()` that a takes an integer `n` and returns the `n`th [fibonacci](https://en.wikipedia.org/wiki/Fibonacci_number) number.**\n",
    "\n",
    "<br>\n",
    "\n",
    "Let's say our fibonacci series is 0-indexed and starts with 0. So:\n",
    "\n",
    "```\n",
    "fib(0) # => 0\n",
    "fib(1) # => 1\n",
    "fib(2) # => 1\n",
    "fib(3) # => 2\n",
    "fib(4) # => 3\n",
    "...\n",
    "```"
   ]
  },
  {
   "cell_type": "code",
   "execution_count": 20,
   "metadata": {
    "collapsed": true
   },
   "outputs": [],
   "source": [
    "fib_cache = {}\n",
    "def fib(n):\n",
    "    if n in fib_cache:\n",
    "        return fib_cache[n]\n",
    "    else:\n",
    "        fib_cache[n] = n if n < 2 else fib(n-2) + fib(n-1)\n",
    "        return fib_cache[n]"
   ]
  },
  {
   "cell_type": "code",
   "execution_count": 21,
   "metadata": {
    "collapsed": false
   },
   "outputs": [
    {
     "data": {
      "text/plain": [
       "55"
      ]
     },
     "execution_count": 21,
     "metadata": {},
     "output_type": "execute_result"
    }
   ],
   "source": [
    "fib(10)"
   ]
  },
  {
   "cell_type": "markdown",
   "metadata": {},
   "source": [
    "<br>\n",
    "\n",
    "##Qu 11.\n",
    "\n",
    "**Your company delivers breakfast via autonomous quadcopter drones. And something mysterious has happened.**\n",
    "\n",
    "<br>\n",
    "\n",
    "Each breakfast delivery is assigned a unique ID, a positive integer. When one of the company's 100 drones takes off with a delivery, the delivery's ID is added to a list, `delivery_id_confirmations`. When the drone comes back and lands, the ID is again added to the same list.\n",
    "\n",
    "After breakfast this morning there were only 99 drones on the tarmac. One of the drones never made it back from a delivery. **We suspect a secret agent from Amazon placed an order and stole one of our patented drones.** To track them down, we need to find their delivery ID.\n",
    "\n",
    "**Given the list of IDs, which contains many duplicate integers and _one unique integer_, find the unique integer.**\n",
    "\n",
    "_The IDs are **not** guaranteed to be sorted or sequential. Orders aren't always fulfilled in the order they were received, and some deliveries get cancelled before takeoff._\n",
    "\n",
    "<br>\n",
    "\n",
    "**We can do this in `O(n)` time.**"
   ]
  },
  {
   "cell_type": "code",
   "execution_count": 22,
   "metadata": {
    "collapsed": true
   },
   "outputs": [],
   "source": [
    "# OK solution\n",
    "def find_unique_delivery_id(delivery_ids):\n",
    "    sorted_lst = [0] * len(delivery_ids)\n",
    "    for i in lst:\n",
    "        sorted_lst[i] += 1\n",
    "    for ind, si in enumerate(sorted_lst):\n",
    "        if si == 1:\n",
    "            return ind"
   ]
  },
  {
   "cell_type": "code",
   "execution_count": 23,
   "metadata": {
    "collapsed": true
   },
   "outputs": [],
   "source": [
    "# Best solution\n",
    "# Using the XOR bitwise operator\n",
    "#O(n) time, and O(1)O(1) space.\n",
    "\n",
    "#1 ^ 1 # 0\n",
    "#1 ^ 0 # 1\n",
    "#0 ^ 1 # 1\n",
    "#0 ^ 0 # 0\n",
    "\n",
    "def find_unique_delivery_id(delivery_ids):\n",
    "    unique_delivery_id = 0\n",
    "\n",
    "    for delivery_id in delivery_ids:\n",
    "        unique_delivery_id ^= delivery_id\n",
    "\n",
    "    return unique_delivery_id"
   ]
  },
  {
   "cell_type": "code",
   "execution_count": 24,
   "metadata": {
    "collapsed": false
   },
   "outputs": [
    {
     "data": {
      "text/plain": [
       "3"
      ]
     },
     "execution_count": 24,
     "metadata": {},
     "output_type": "execute_result"
    }
   ],
   "source": [
    "find_unique_delivery_id([1,1,2,3,2])"
   ]
  },
  {
   "cell_type": "markdown",
   "metadata": {},
   "source": [
    "<br>\n",
    "\n",
    "##Qu 12.\n",
    "\n",
    "**Delete a node from a singly-linked list, given the first node (root) of the linked list.**\n",
    "\n",
    "<br>\n",
    "\n",
    "**The input could, for example, be the variables `a` and `'B'` below:**\n",
    "\n",
    "```\n",
    "class LinkedListNode:\n",
    "\n",
    "    def __init__(self, value):\n",
    "        self.value = value\n",
    "        self.next_node  = None\n",
    "\n",
    "a = LinkedListNode('A')\n",
    "b = LinkedListNode('B')\n",
    "c = LinkedListNode('C')\n",
    "\n",
    "a.next = b\n",
    "b.next = c\n",
    "\n",
    "delete_node(a, 'B')\n",
    "```"
   ]
  },
  {
   "cell_type": "code",
   "execution_count": 25,
   "metadata": {
    "collapsed": true
   },
   "outputs": [],
   "source": [
    "def delete_node(root, target):\n",
    "    root_copy = root\n",
    "    \n",
    "    prev_node = None\n",
    "    cur_node = root_copy\n",
    "    next_node = root_copy.next_node\n",
    "\n",
    "    while cur_node:\n",
    "        if cur_node.value == target:\n",
    "            if prev_node is None:\n",
    "                return next_node\n",
    "            else:\n",
    "                prev_node.next_node = next_node\n",
    "                return root\n",
    "        \n",
    "        prev_node = cur_node\n",
    "        cur_node = next_node\n",
    "        next_node = cur_node.next_node\n",
    "        \n",
    "    raise Exception('Target Not Found!')"
   ]
  },
  {
   "cell_type": "code",
   "execution_count": 26,
   "metadata": {
    "collapsed": false
   },
   "outputs": [],
   "source": [
    "class LinkedListNode:\n",
    "\n",
    "    def __init__(self, value):\n",
    "        self.value = value\n",
    "        self.next_node  = None\n",
    "\n",
    "a = LinkedListNode('A')\n",
    "b = LinkedListNode('B')\n",
    "c = LinkedListNode('C')\n",
    "\n",
    "a.next_node = b\n",
    "b.next_node = c\n",
    "\n",
    "answer = delete_node(a, 'B')"
   ]
  },
  {
   "cell_type": "code",
   "execution_count": 27,
   "metadata": {
    "collapsed": false
   },
   "outputs": [
    {
     "data": {
      "text/plain": [
       "'A'"
      ]
     },
     "execution_count": 27,
     "metadata": {},
     "output_type": "execute_result"
    }
   ],
   "source": [
    "answer.value"
   ]
  },
  {
   "cell_type": "code",
   "execution_count": 28,
   "metadata": {
    "collapsed": false
   },
   "outputs": [
    {
     "data": {
      "text/plain": [
       "'C'"
      ]
     },
     "execution_count": 28,
     "metadata": {},
     "output_type": "execute_result"
    }
   ],
   "source": [
    "answer.next_node.value"
   ]
  }
 ],
 "metadata": {
  "kernelspec": {
   "display_name": "Python 2",
   "language": "python",
   "name": "python2"
  },
  "language_info": {
   "codemirror_mode": {
    "name": "ipython",
    "version": 2
   },
   "file_extension": ".py",
   "mimetype": "text/x-python",
   "name": "python",
   "nbconvert_exporter": "python",
   "pygments_lexer": "ipython2",
   "version": "2.7.5"
  }
 },
 "nbformat": 4,
 "nbformat_minor": 0
}
