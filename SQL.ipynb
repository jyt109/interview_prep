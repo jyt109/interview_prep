{
 "cells": [
  {
   "cell_type": "markdown",
   "metadata": {},
   "source": [
    "##SQL\n",
    "\n",
    "**Unless you are going for a very SQL heavy role, knowing the following should suffice:**\n",
    "- Simple `SELECT`, `WHERE`\n",
    "- `GROUPBY` , `HAVING`\n",
    "- Subquery , `WITH` statement for Postgres\n",
    "- `INNER JOIN` , `CROSS JOIN` , `LEFT JOIN` , `RIGHT JOIN` , self `JOIN`s\n",
    "- More complex `WHERE` conditions: `LIKE` , `IN`\n",
    "- `ORDER BY`, `LIMIT`, `MAX`, `MIN`\n",
    "\n",
    "<br>\n",
    "\n",
    "**Here are some of the resources for SQL practice out there.**\n",
    "\n",
    "- [SQL Zoo](http://sqlzoo.net)\n",
    "- [SQL Course](http://www.sqlcourse2.com/select2.html)\n",
    "- If you are bothered to sign up and set up, this site is excellent: [Advanced SQL](http://sql-ex.ru/)"
   ]
  }
 ],
 "metadata": {
  "kernelspec": {
   "display_name": "Python 2",
   "language": "python",
   "name": "python2"
  },
  "language_info": {
   "codemirror_mode": {
    "name": "ipython",
    "version": 2
   },
   "file_extension": ".py",
   "mimetype": "text/x-python",
   "name": "python",
   "nbconvert_exporter": "python",
   "pygments_lexer": "ipython2",
   "version": "2.7.5"
  }
 },
 "nbformat": 4,
 "nbformat_minor": 0
}
